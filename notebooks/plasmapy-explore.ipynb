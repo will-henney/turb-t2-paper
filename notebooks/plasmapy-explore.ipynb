{
 "cells": [
  {
   "cell_type": "code",
   "execution_count": 1,
   "id": "7fafa456-69f1-487c-9fa9-d7759952d289",
   "metadata": {},
   "outputs": [],
   "source": [
    "import plasmapy"
   ]
  },
  {
   "cell_type": "markdown",
   "id": "68aea858-4312-4e35-9304-6a677508e20c",
   "metadata": {},
   "source": [
    "Note that plasmapy can take a very long time to import, about a minute."
   ]
  },
  {
   "cell_type": "code",
   "execution_count": 78,
   "id": "e4e1679c-9fff-4ccc-b5b5-937fbe7a950a",
   "metadata": {},
   "outputs": [],
   "source": [
    "import hii_utils\n",
    "import plasmapy.formulary as pf\n",
    "import astropy.units as u\n",
    "import astropy.constants as const\n",
    "import numpy as np"
   ]
  },
  {
   "cell_type": "markdown",
   "id": "9bd4470e-c25c-4267-8de7-07de52773ed6",
   "metadata": {},
   "source": [
    "## Calculate various parameters for a typical H II region"
   ]
  },
  {
   "cell_type": "markdown",
   "id": "50f3488e-ac89-4516-82b8-c69c7987d48c",
   "metadata": {},
   "source": [
    "### Fiducial parameters\n",
    "\n",
    "As with my other notes, we will normalise to an electron density of 100 pcc and temperature of 10,000 K. We set the size scale to 10 pc (later, we can try and relate this to the ionization parameter)"
   ]
  },
  {
   "cell_type": "code",
   "execution_count": 3,
   "id": "9202e0bf-fa86-4721-accc-adda39da1f88",
   "metadata": {},
   "outputs": [],
   "source": [
    "L = 10.0 * u.pc\n",
    "n = 100.0 * u.cm ** -3\n",
    "T = 1.0e4 * u.K\n",
    "species = (\"p+\", \"p+\")"
   ]
  },
  {
   "cell_type": "markdown",
   "id": "3dea354c-ddf8-460b-add5-4b3f07754d9e",
   "metadata": {},
   "source": [
    "### Magnetic field\n",
    "\n",
    "Set the magnetic field to try and give a plasma beta of unity. Note that the `n` parameter in the `beta()` function is the total particle density, which is $2 n_e$ if fully ionized pure hydrogen."
   ]
  },
  {
   "cell_type": "code",
   "execution_count": 4,
   "id": "3dd95a71-9d42-42ba-a468-6135da70aafb",
   "metadata": {},
   "outputs": [
    {
     "data": {
      "text/latex": [
       "$1.0001454 \\; \\mathrm{}$"
      ],
      "text/plain": [
       "<Quantity 1.00014539>"
      ]
     },
     "execution_count": 4,
     "metadata": {},
     "output_type": "execute_result"
    }
   ],
   "source": [
    "B = 83.3* u.microgauss\n",
    "pf.beta(T, 2*n, B)"
   ]
  },
  {
   "cell_type": "markdown",
   "id": "fed34400-c5fb-43de-9e74-b2dba9042db7",
   "metadata": {},
   "source": [
    "That is close enough to unity. But note that it is slightly different from the 78.2 microG that I derived in my notes, which is probably due to the correction for Helium, which I am ignoring here."
   ]
  },
  {
   "cell_type": "markdown",
   "id": "cc66800c-af10-4a05-a29e-4a1c2ecb1a8a",
   "metadata": {},
   "source": [
    "### Collisional quantities"
   ]
  },
  {
   "cell_type": "code",
   "execution_count": 5,
   "id": "3ec60b54-2745-47a1-8f40-538c64136b5b",
   "metadata": {},
   "outputs": [
    {
     "data": {
      "text/latex": [
       "$1.7993242 \\times 10^{-10} \\; \\mathrm{}$"
      ],
      "text/plain": [
       "<Quantity 1.79932417e-10>"
      ]
     },
     "execution_count": 5,
     "metadata": {},
     "output_type": "execute_result"
    }
   ],
   "source": [
    "pf.Knudsen_number(L, T, n, species)"
   ]
  },
  {
   "cell_type": "markdown",
   "id": "0bade27d-6c6c-4f35-a2de-0c18993dc3b8",
   "metadata": {},
   "source": [
    "#### Mean free path, thermal speed, and collisional frequencies"
   ]
  },
  {
   "cell_type": "markdown",
   "id": "2203ad1c-2d3a-474c-9b3c-a028ba8f5111",
   "metadata": {},
   "source": [
    "Mean free path comes out the same for electrons and protons"
   ]
  },
  {
   "cell_type": "code",
   "execution_count": 31,
   "id": "f026d70e-df5d-4baf-95bf-b99c116488ee",
   "metadata": {},
   "outputs": [
    {
     "data": {
      "text/latex": [
       "$5.5521343 \\times 10^{9} \\; \\mathrm{cm}$"
      ],
      "text/plain": [
       "<Quantity 5.55213426e+09 cm>"
      ]
     },
     "execution_count": 31,
     "metadata": {},
     "output_type": "execute_result"
    }
   ],
   "source": [
    "ion_mfp = pf.mean_free_path(T, n, species)\n",
    "ion_mfp.cgs"
   ]
  },
  {
   "cell_type": "markdown",
   "id": "4336f4ba-657d-4af5-ac1a-6583ea94492d",
   "metadata": {},
   "source": [
    "But it is slightly different for Helium ions"
   ]
  },
  {
   "cell_type": "code",
   "execution_count": 7,
   "id": "287f7515-e6eb-4d57-b6ab-67db72d609c4",
   "metadata": {},
   "outputs": [
    {
     "data": {
      "text/latex": [
       "$1.4365298 \\times 10^{9} \\; \\mathrm{cm}$"
      ],
      "text/plain": [
       "<Quantity 1.43652977e+09 cm>"
      ]
     },
     "execution_count": 7,
     "metadata": {},
     "output_type": "execute_result"
    }
   ],
   "source": [
    "pf.mean_free_path(T, n, (\"He++\", \"p+\")).cgs"
   ]
  },
  {
   "cell_type": "markdown",
   "id": "f65e5c47-8fe1-498b-bd43-7e88d8ed4803",
   "metadata": {},
   "source": [
    "And it is a *lot* bigger for high-velocity protons (for example, from stellar wind)"
   ]
  },
  {
   "cell_type": "code",
   "execution_count": 8,
   "id": "3f51887d-cc6a-4be9-9b01-948e5a871d11",
   "metadata": {
    "jupyter": {
     "source_hidden": true
    }
   },
   "outputs": [
    {
     "data": {
      "text/latex": [
       "$3.662913 \\times 10^{16} \\; \\mathrm{cm}$"
      ],
      "text/plain": [
       "<Quantity 3.66291304e+16 cm>"
      ]
     },
     "execution_count": 8,
     "metadata": {},
     "output_type": "execute_result"
    }
   ],
   "source": [
    "pf.mean_free_path(T, n, species, V=1000 * u.km/u.s).cgs"
   ]
  },
  {
   "cell_type": "markdown",
   "id": "36cd4fd7-6dca-40a7-987f-f1d5a15bf44f",
   "metadata": {},
   "source": [
    "Calculate the thermal speed. This is the 3d rms speed, but I am not sure if this is exactly what we should be using."
   ]
  },
  {
   "cell_type": "code",
   "execution_count": 34,
   "id": "40802722-32d8-4fda-bf1d-7baa0cea5eef",
   "metadata": {},
   "outputs": [
    {
     "data": {
      "text/latex": [
       "$15.736327 \\; \\mathrm{\\frac{km}{s}}$"
      ],
      "text/plain": [
       "<Quantity 15.73632717 km / s>"
      ]
     },
     "execution_count": 34,
     "metadata": {},
     "output_type": "execute_result"
    }
   ],
   "source": [
    "v_rms = pf.thermal_speed(T, \"p\", method=\"rms\", ndim=3)\n",
    "v_rms.to(u.km/u.s)"
   ]
  },
  {
   "cell_type": "markdown",
   "id": "ce12763e-4a15-4b80-beca-8665259a236f",
   "metadata": {},
   "source": [
    "OK, I have investigated more and it turns out it uses the most probable speed from 3d Maxwellian by default, which is slightly lower"
   ]
  },
  {
   "cell_type": "code",
   "execution_count": 84,
   "id": "2918c99f-63d6-47d8-9db3-78f02473f2f9",
   "metadata": {},
   "outputs": [
    {
     "data": {
      "text/latex": [
       "$12.848657 \\; \\mathrm{\\frac{km}{s}}$"
      ],
      "text/plain": [
       "<Quantity 12.84865733 km / s>"
      ]
     },
     "execution_count": 84,
     "metadata": {},
     "output_type": "execute_result"
    }
   ],
   "source": [
    "v_therm_ion = pf.thermal_speed(T, \"p\", ndim=3)\n",
    "v_therm_ion.to(u.km/u.s)"
   ]
  },
  {
   "cell_type": "markdown",
   "id": "84b89bf7-7c41-49fe-a050-c93d31e849da",
   "metadata": {},
   "source": [
    "Now get the collisional time. Supposedly, we should use the MaxwellianCollisionFrequencies class, but that is a bit of a pain since it requires sending the Coulomb logarithm. But first we will try the old deprecated version:"
   ]
  },
  {
   "cell_type": "code",
   "execution_count": 60,
   "id": "bc635fa3-f990-41fa-b9e0-b44c92866d30",
   "metadata": {},
   "outputs": [
    {
     "data": {
      "text/latex": [
       "$0.00011894109 \\; \\mathrm{\\frac{1}{s}}$"
      ],
      "text/plain": [
       "<Quantity 0.00011894 1 / s>"
      ]
     },
     "execution_count": 60,
     "metadata": {},
     "output_type": "execute_result"
    }
   ],
   "source": [
    "nu_i_old = pf.fundamental_ion_collision_freq(T, n, \"p\")\n",
    "nu_i_old"
   ]
  },
  {
   "cell_type": "markdown",
   "id": "f873f29a-3a17-45ac-a650-b3168a34f9d1",
   "metadata": {},
   "source": [
    "And now we calculate the Coulomb logarithm and use the new way of doing it"
   ]
  },
  {
   "cell_type": "code",
   "execution_count": 61,
   "id": "6727e9ec-9283-43e2-a179-d3ab390c048e",
   "metadata": {},
   "outputs": [
    {
     "data": {
      "text/plain": [
       "np.float64(20.532051566138307)"
      ]
     },
     "execution_count": 61,
     "metadata": {},
     "output_type": "execute_result"
    }
   ],
   "source": [
    "pf.Coulomb_logarithm(T, n, species)"
   ]
  },
  {
   "cell_type": "code",
   "execution_count": 62,
   "id": "d170f461-3b6b-4064-94cb-1b69e8b894c8",
   "metadata": {},
   "outputs": [],
   "source": [
    "freqs = pf.MaxwellianCollisionFrequencies(\n",
    "    \"p\", \"p\", T_a=T, n_a=n, T_b=T, n_b=n,\n",
    "    Coulomb_log=pf.Coulomb_logarithm(T, n, species) * u.dimensionless_unscaled,\n",
    ")"
   ]
  },
  {
   "cell_type": "code",
   "execution_count": 63,
   "id": "139a624b-b24a-43bb-ba0a-9e6217523b52",
   "metadata": {},
   "outputs": [
    {
     "data": {
      "text/latex": [
       "$4.3521274 \\times 10^{-5} \\; \\mathrm{Hz}$"
      ],
      "text/plain": [
       "<Quantity 4.35212736e-05 Hz>"
      ]
     },
     "execution_count": 63,
     "metadata": {},
     "output_type": "execute_result"
    }
   ],
   "source": [
    "nu_i = freqs.Maxwellian_avg_ii_collision_freq\n",
    "nu_i"
   ]
  },
  {
   "cell_type": "markdown",
   "id": "a0b7f48a-788e-4abe-a060-02459a2889e8",
   "metadata": {},
   "source": [
    "There is also a simpler tyoe of collision frequency that comes out differently"
   ]
  },
  {
   "cell_type": "code",
   "execution_count": 68,
   "id": "2336d9bb-ff7a-4d73-a8c8-9b1d60f8bf4e",
   "metadata": {},
   "outputs": [
    {
     "data": {
      "text/latex": [
       "$8.1818741 \\times 10^{-5} \\; \\mathrm{Hz}$"
      ],
      "text/plain": [
       "<Quantity 8.18187412e-05 Hz>"
      ]
     },
     "execution_count": 68,
     "metadata": {},
     "output_type": "execute_result"
    }
   ],
   "source": [
    "nu_Lorentz = freqs.Lorentz_collision_frequency\n",
    "nu_Lorentz"
   ]
  },
  {
   "cell_type": "code",
   "execution_count": 74,
   "id": "cf689440-2b89-4570-924d-368298abb995",
   "metadata": {},
   "outputs": [
    {
     "data": {
      "text/latex": [
       "$0.00032727497 \\; \\mathrm{Hz}$"
      ],
      "text/plain": [
       "<Quantity 0.00032727 Hz>"
      ]
     },
     "execution_count": 74,
     "metadata": {},
     "output_type": "execute_result"
    }
   ],
   "source": [
    "nu_Lorentz_old = pf.collision_frequency(T, n, species)\n",
    "nu_Lorentz_old"
   ]
  },
  {
   "cell_type": "markdown",
   "id": "24486bfb-0e57-409e-bcb0-faae09e0d7c3",
   "metadata": {},
   "source": [
    "Or converted into a time:"
   ]
  },
  {
   "cell_type": "code",
   "execution_count": 99,
   "id": "68af8acb-34ac-412a-b6ee-d13772172d9c",
   "metadata": {},
   "outputs": [
    {
     "data": {
      "text/latex": [
       "$3055.5347 \\; \\mathrm{s}$"
      ],
      "text/plain": [
       "<Quantity 3055.53466178 s>"
      ]
     },
     "execution_count": 99,
     "metadata": {},
     "output_type": "execute_result"
    }
   ],
   "source": [
    "tau_i = 1/nu_Lorentz_old\n",
    "tau_i.cgs"
   ]
  },
  {
   "cell_type": "code",
   "execution_count": 85,
   "id": "5dddd652-d6f7-424a-86d5-d4142f1520fa",
   "metadata": {},
   "outputs": [
    {
     "data": {
      "text/latex": [
       "$18.170745 \\; \\mathrm{\\frac{km}{s}}$"
      ],
      "text/plain": [
       "<Quantity 18.17074545 km / s>"
      ]
     },
     "execution_count": 85,
     "metadata": {},
     "output_type": "execute_result"
    }
   ],
   "source": [
    "(ion_mfp * nu_Lorentz_old).to(u.km/u.s)"
   ]
  },
  {
   "cell_type": "markdown",
   "id": "baef58e6-30f5-4f3d-972e-c266ef28dbc3",
   "metadata": {},
   "source": [
    "OK, so that varies a lot, depending on whether we use the Lorentz or Maxwellian and whether we use the class (new) or the function (old). Looking at the source code for mean_free_path, it uses the Lorentz function version, so we will do the same for consistency."
   ]
  },
  {
   "cell_type": "code",
   "execution_count": 86,
   "id": "c044f7ea-3401-4f56-8ae9-ab3a9531634d",
   "metadata": {
    "scrolled": true
   },
   "outputs": [
    {
     "data": {
      "text/latex": [
       "$18.170745 \\; \\mathrm{\\frac{km}{s}}$"
      ],
      "text/plain": [
       "<Quantity 18.17074545 km / s>"
      ]
     },
     "execution_count": 86,
     "metadata": {},
     "output_type": "execute_result"
    }
   ],
   "source": [
    "np.sqrt(2) * v_therm_ion.to(u.km/u.s)"
   ]
  },
  {
   "cell_type": "markdown",
   "id": "e10d0e4a-22de-455c-a91f-8c90f8206920",
   "metadata": {},
   "source": [
    "So that is consistent, yay!  The reason for the sqrt(2) factor is that it is the relative speed between two protons. "
   ]
  },
  {
   "cell_type": "markdown",
   "id": "ce628dbe-5c21-467f-95d4-3a79401cd6f8",
   "metadata": {},
   "source": [
    "#### Viscosity"
   ]
  },
  {
   "cell_type": "markdown",
   "id": "5f441054-630e-4bdf-b8e6-b7a36b4d3ef0",
   "metadata": {},
   "source": [
    "By default, the transport coefficients are calculated in the Braginskii model"
   ]
  },
  {
   "cell_type": "code",
   "execution_count": 9,
   "id": "b4344c71-d07e-4f7d-8807-243971aae6e8",
   "metadata": {},
   "outputs": [
    {
     "data": {
      "text/latex": [
       "$[1.0767328 \\times 10^{-7},~1.0734594 \\times 10^{-7},~1.0734594 \\times 10^{-7},~0,~0] \\; \\mathrm{Pa\\,s}$"
      ],
      "text/plain": [
       "<Quantity [1.07673276e-07, 1.07345943e-07, 1.07345943e-07, 0.00000000e+00,\n",
       "           0.00000000e+00] Pa s>"
      ]
     },
     "execution_count": 9,
     "metadata": {},
     "output_type": "execute_result"
    }
   ],
   "source": [
    "pf.ion_viscosity(T, n, T, n, \"p\")"
   ]
  },
  {
   "cell_type": "markdown",
   "id": "e123127a-d48a-42bd-99fd-a20e3fea141a",
   "metadata": {},
   "source": [
    "But there is the option to use the more accurate Ji and Held (2013) model, although in our case this makes little difference."
   ]
  },
  {
   "cell_type": "markdown",
   "id": "8c18b8d9-505e-4cba-aa92-f6268d34d602",
   "metadata": {},
   "source": [
    "But we can also a more recent theory from Ji & Held (2013), which changes the numbers very slightly. The main difference is that it better accounts for the electron-ion collisions, and apparently it has more effect in the magnetic case, which we will  see below. "
   ]
  },
  {
   "cell_type": "code",
   "execution_count": 10,
   "id": "1777a19d-33a3-4a59-9a49-1893fce72252",
   "metadata": {},
   "outputs": [
    {
     "data": {
      "text/latex": [
       "$[1.0825659 \\times 10^{-7},~1.0825659 \\times 10^{-7},~1.0825659 \\times 10^{-7},~0,~0] \\; \\mathrm{Pa\\,s}$"
      ],
      "text/plain": [
       "<Quantity [1.08256591e-07, 1.08256591e-07, 1.08256591e-07, 0.00000000e+00,\n",
       "           0.00000000e+00] Pa s>"
      ]
     },
     "execution_count": 10,
     "metadata": {},
     "output_type": "execute_result"
    }
   ],
   "source": [
    "pf.ion_viscosity(T, n, T, n, \"p\", model=\"Ji-Held\")"
   ]
  },
  {
   "cell_type": "markdown",
   "id": "fe553527-5b27-46e2-b373-68ae5870e388",
   "metadata": {},
   "source": [
    "Note that viscosity is a tensor, which may become important once we introduce a magnetic field."
   ]
  },
  {
   "cell_type": "markdown",
   "id": "a222aeac-fdfd-42e7-ad20-da8aaffa5668",
   "metadata": {},
   "source": [
    "#### Anisotropy with magnetic field"
   ]
  },
  {
   "cell_type": "code",
   "execution_count": 30,
   "id": "65dbdee6-9c03-4d92-898b-72ce10f39e61",
   "metadata": {
    "editable": true,
    "slideshow": {
     "slide_type": ""
    },
    "tags": []
   },
   "outputs": [
    {
     "data": {
      "text/latex": [
       "$6708.504 \\; \\mathrm{}$"
      ],
      "text/plain": [
       "<Quantity 6708.50398785>"
      ]
     },
     "execution_count": 30,
     "metadata": {},
     "output_type": "execute_result"
    }
   ],
   "source": [
    "hall = pf.Hall_parameter(n, T, B, \"p\", \"p\")\n",
    "hall"
   ]
  },
  {
   "cell_type": "markdown",
   "id": "8989a453-deaa-40f1-a98c-412abbbdea42",
   "metadata": {},
   "source": [
    "The Hall parameter is the product of Larmor frequency and collision time: $x = \\omega_L \\, \\tau = (V / r_L)\\, (\\lambda / V) = \\lambda / r_L$. so it is the ratio of the mean free path to the Larmor radius. This is very similar to the magnetic Prandtl number, which I calculated in the notes. It is linearly proportional to the B field:"
   ]
  },
  {
   "cell_type": "code",
   "execution_count": 12,
   "id": "9b3a9469-04e6-4b48-baa8-423838d1aeaa",
   "metadata": {},
   "outputs": [
    {
     "data": {
      "text/latex": [
       "$670.8504 \\; \\mathrm{}$"
      ],
      "text/plain": [
       "<Quantity 670.85039879>"
      ]
     },
     "execution_count": 12,
     "metadata": {},
     "output_type": "execute_result"
    }
   ],
   "source": [
    "pf.Hall_parameter(n, T, 0.1 * B, \"p\", \"p\")"
   ]
  },
  {
   "cell_type": "code",
   "execution_count": 13,
   "id": "2a4240b5-3bb7-42a2-8832-633ba2175e08",
   "metadata": {},
   "outputs": [
    {
     "data": {
      "text/latex": [
       "$[1.0825659 \\times 10^{-7},~1.6613273 \\times 10^{-23},~6.6453091 \\times 10^{-23},~1.246107 \\times 10^{-15},~2.4922139 \\times 10^{-15}] \\; \\mathrm{Pa\\,s}$"
      ],
      "text/plain": [
       "<Quantity [1.08256591e-07, 1.66132734e-23, 6.64530909e-23, 1.24610698e-15,\n",
       "           2.49221389e-15] Pa s>"
      ]
     },
     "execution_count": 13,
     "metadata": {},
     "output_type": "execute_result"
    }
   ],
   "source": [
    "pf.ion_viscosity(T, n, T, n, \"p\", B=B, model=\"Ji-Held\")"
   ]
  },
  {
   "cell_type": "code",
   "execution_count": 15,
   "id": "872586be-90dc-43b2-907d-bcd052789d86",
   "metadata": {},
   "outputs": [
    {
     "data": {
      "text/latex": [
       "$[1.0767328 \\times 10^{-7},~1.6613273 \\times 10^{-23},~6.6453091 \\times 10^{-23},~1.246107 \\times 10^{-15},~2.4922139 \\times 10^{-15}] \\; \\mathrm{Pa\\,s}$"
      ],
      "text/plain": [
       "<Quantity [1.07673276e-07, 1.66132734e-23, 6.64530913e-23, 1.24610698e-15,\n",
       "           2.49221389e-15] Pa s>"
      ]
     },
     "execution_count": 15,
     "metadata": {},
     "output_type": "execute_result"
    }
   ],
   "source": [
    "viscosity = pf.ion_viscosity(T, n, T, n, \"p\", B=B)\n",
    "viscosity"
   ]
  },
  {
   "cell_type": "markdown",
   "id": "af1aca4e-17e7-43c6-97e5-ce45f63a77ba",
   "metadata": {},
   "source": [
    "These are now the tensor viscosity results with a more realistic magnetic field"
   ]
  },
  {
   "cell_type": "code",
   "execution_count": 17,
   "id": "fca70b3c-e02b-4bac-aa85-3dcde53f92b2",
   "metadata": {},
   "outputs": [
    {
     "data": {
      "text/latex": [
       "$86407730 \\; \\mathrm{}$"
      ],
      "text/plain": [
       "<Quantity 86407730.2416565>"
      ]
     },
     "execution_count": 17,
     "metadata": {},
     "output_type": "execute_result"
    }
   ],
   "source": [
    "viscosity[0] / viscosity[3]"
   ]
  },
  {
   "cell_type": "markdown",
   "id": "5fb56440-8492-41ff-b411-3daba6776139",
   "metadata": {},
   "source": [
    "Why is there such a large difference between these components? I need to better understand the relation with the parallel, perpendicular, and cross components."
   ]
  },
  {
   "cell_type": "code",
   "execution_count": 43,
   "id": "03863098-30c4-4731-9bec-8cf12737dc4f",
   "metadata": {},
   "outputs": [
    {
     "data": {
      "text/latex": [
       "$[1.3566608 \\times 10^{-9},~6.3740202 \\times 10^{-31},~2.5496081 \\times 10^{-30},~2.3989071 \\times 10^{-20},~4.7978143 \\times 10^{-20}] \\; \\mathrm{Pa\\,s}$"
      ],
      "text/plain": [
       "<Quantity [1.35666080e-09, 6.37402018e-31, 2.54960807e-30, 2.39890714e-20,\n",
       "           4.79781428e-20] Pa s>"
      ]
     },
     "execution_count": 43,
     "metadata": {},
     "output_type": "execute_result"
    }
   ],
   "source": [
    "pf.electron_viscosity(T, n, T, n, \"p\", B=B)"
   ]
  },
  {
   "cell_type": "markdown",
   "id": "ab67a3a5-dd53-4bef-95a4-8465d34a3157",
   "metadata": {},
   "source": [
    "So the electron viscosity (for the *ions*) is 100  times lower than the ion viscosity, so we can ignore it. "
   ]
  },
  {
   "cell_type": "markdown",
   "id": "2b8dcfef-4ac6-45df-83da-49058ff36ff2",
   "metadata": {},
   "source": [
    "#### Kinematic viscosity\n",
    "\n",
    "The kinematic viscosity is equal to the dynamic viscosity divided by the mass density. "
   ]
  },
  {
   "cell_type": "code",
   "execution_count": 29,
   "id": "cfbde25a-bb8c-4122-bcd7-7aaa0881d955",
   "metadata": {},
   "outputs": [
    {
     "data": {
      "text/latex": [
       "$[6.4373947 \\times 10^{15},~0.99324738,~3.9729894,~74500218,~1.4900043 \\times 10^{8}] \\; \\mathrm{\\frac{cm^{2}}{s}}$"
      ],
      "text/plain": [
       "<Quantity [6.43739474e+15, 9.93247380e-01, 3.97298938e+00, 7.45002180e+07,\n",
       "           1.49000432e+08] cm2 / s>"
      ]
     },
     "execution_count": 29,
     "metadata": {},
     "output_type": "execute_result"
    }
   ],
   "source": [
    "kinematic_viscosity = viscosity / (n * const.m_p)\n",
    "kinematic_viscosity.cgs"
   ]
  },
  {
   "cell_type": "code",
   "execution_count": null,
   "id": "2111157e-b195-4106-ba4a-7ef13c18f623",
   "metadata": {},
   "outputs": [],
   "source": []
  },
  {
   "cell_type": "markdown",
   "id": "3576268c-54f3-4c0b-a370-04dbce53160d",
   "metadata": {},
   "source": [
    "This should be equal to the mean-free path times the ion thermal speed. "
   ]
  },
  {
   "cell_type": "markdown",
   "id": "ad6b0f1e-72d4-4cbe-b1b0-178abb2e436a",
   "metadata": {},
   "source": [
    "Let's make the comparison:"
   ]
  },
  {
   "cell_type": "code",
   "execution_count": 87,
   "id": "2485ca2b-1bf1-463e-9a6a-60935d5d340d",
   "metadata": {},
   "outputs": [
    {
     "data": {
      "text/latex": [
       "$7.133747 \\times 10^{15} \\; \\mathrm{\\frac{cm^{2}}{s}}$"
      ],
      "text/plain": [
       "<Quantity 7.13374705e+15 cm2 / s>"
      ]
     },
     "execution_count": 87,
     "metadata": {},
     "output_type": "execute_result"
    }
   ],
   "source": [
    "(ion_mfp * v_therm_ion).cgs"
   ]
  },
  {
   "cell_type": "markdown",
   "id": "f88f3d60-fb15-4506-a188-19192f69b609",
   "metadata": {},
   "source": [
    "Hurray, that is very close to what I was expecting for the parallel viscosity. Some texts have a factor of 1/3 in this equation, but if I used that, then we would have a bigger discrepancy."
   ]
  },
  {
   "cell_type": "markdown",
   "id": "07eed62c-c80b-4a08-add2-c9aebd502a02",
   "metadata": {},
   "source": [
    "### Reynolds number\n",
    "\n",
    "This is what we finally want to calculate."
   ]
  },
  {
   "cell_type": "markdown",
   "id": "ba6aeade-0a94-4ae2-b8e8-dab8c002672b",
   "metadata": {},
   "source": [
    "Consider pure hydrogen and fully ionized to calculate the isothermal sound speed. "
   ]
  },
  {
   "cell_type": "code",
   "execution_count": 96,
   "id": "cf799fef-e691-492c-96af-be2f3ac38148",
   "metadata": {},
   "outputs": [
    {
     "data": {
      "text/latex": [
       "$12.848657 \\; \\mathrm{\\frac{km}{s}}$"
      ],
      "text/plain": [
       "<Quantity 12.84865733 km / s>"
      ]
     },
     "execution_count": 96,
     "metadata": {},
     "output_type": "execute_result"
    }
   ],
   "source": [
    "sound_speed = np.sqrt(2 * const.k_B * T / const.m_p)\n",
    "sound_speed.to(u.km / u.s)"
   ]
  },
  {
   "cell_type": "markdown",
   "id": "41ce2947-98c7-4bdd-b43b-3d5ca7f7cd87",
   "metadata": {},
   "source": [
    "This is actually numerically equal to the ion thermal speed. \n",
    "\n",
    "I use the parallel component of the dynamic viscosity. "
   ]
  },
  {
   "cell_type": "code",
   "execution_count": 97,
   "id": "357ff3bf-2a61-4e39-bd52-e83601c0397c",
   "metadata": {},
   "outputs": [
    {
     "data": {
      "text/latex": [
       "$6.1588291 \\times 10^{9} \\; \\mathrm{}$"
      ],
      "text/plain": [
       "<Quantity 6.15882907e+09>"
      ]
     },
     "execution_count": 97,
     "metadata": {},
     "output_type": "execute_result"
    }
   ],
   "source": [
    "Re = pf.Reynolds_number(\n",
    "    rho = const.m_p * n,\n",
    "    U = v_therm_ion,\n",
    "    L = L,\n",
    "    mu = viscosity[0],\n",
    ")\n",
    "Re"
   ]
  },
  {
   "cell_type": "markdown",
   "id": "32a880c7-2ca7-4316-9bad-957bb0339de9",
   "metadata": {},
   "source": [
    "The integral scale Re for H II regions will be a bit smaller since the injection scale will be smaller than the Stromgren radius. But it will still be of order 1e9. "
   ]
  },
  {
   "cell_type": "code",
   "execution_count": null,
   "id": "f253d582-af65-45f3-ad14-70945c296d71",
   "metadata": {},
   "outputs": [],
   "source": []
  },
  {
   "cell_type": "code",
   "execution_count": null,
   "id": "701ba4c5-7864-4cd0-93f9-ff91f38e9470",
   "metadata": {},
   "outputs": [],
   "source": []
  },
  {
   "cell_type": "code",
   "execution_count": null,
   "id": "9610e979-adbc-4097-8515-1daf1660c959",
   "metadata": {},
   "outputs": [],
   "source": []
  }
 ],
 "metadata": {
  "kernelspec": {
   "display_name": "Python 3 (ipykernel)",
   "language": "python",
   "name": "python3"
  },
  "language_info": {
   "codemirror_mode": {
    "name": "ipython",
    "version": 3
   },
   "file_extension": ".py",
   "mimetype": "text/x-python",
   "name": "python",
   "nbconvert_exporter": "python",
   "pygments_lexer": "ipython3",
   "version": "3.12.6"
  }
 },
 "nbformat": 4,
 "nbformat_minor": 5
}
