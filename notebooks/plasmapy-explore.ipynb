{
 "cells": [
  {
   "cell_type": "code",
   "execution_count": 1,
   "id": "7fafa456-69f1-487c-9fa9-d7759952d289",
   "metadata": {},
   "outputs": [],
   "source": [
    "import plasmapy"
   ]
  },
  {
   "cell_type": "markdown",
   "id": "68aea858-4312-4e35-9304-6a677508e20c",
   "metadata": {},
   "source": [
    "Note that plasmapy can take a very long time to import, about a minute."
   ]
  },
  {
   "cell_type": "code",
   "execution_count": 13,
   "id": "e4e1679c-9fff-4ccc-b5b5-937fbe7a950a",
   "metadata": {},
   "outputs": [],
   "source": [
    "import hii_utils\n",
    "import plasmapy.formulary as pf\n",
    "import astropy.units as u"
   ]
  },
  {
   "cell_type": "markdown",
   "id": "9bd4470e-c25c-4267-8de7-07de52773ed6",
   "metadata": {},
   "source": [
    "## Calculate various parameters for a typical H II region"
   ]
  },
  {
   "cell_type": "markdown",
   "id": "50f3488e-ac89-4516-82b8-c69c7987d48c",
   "metadata": {},
   "source": [
    "### Fiducial parameters\n",
    "\n",
    "As with my other notes, we will normalise to a density of 100 pcc and temperature of 10,000 K. We set the "
   ]
  },
  {
   "cell_type": "code",
   "execution_count": 3,
   "id": "9202e0bf-fa86-4721-accc-adda39da1f88",
   "metadata": {},
   "outputs": [],
   "source": [
    "L = 10.0 * u.pc\n",
    "n = 100.0 * u.cm ** -3\n",
    "T = 1.0e4 * u.K\n",
    "species = (\"p+\", \"p+\")"
   ]
  },
  {
   "cell_type": "code",
   "execution_count": 4,
   "id": "3ec60b54-2745-47a1-8f40-538c64136b5b",
   "metadata": {},
   "outputs": [
    {
     "data": {
      "text/latex": [
       "$1.7993242 \\times 10^{-10} \\; \\mathrm{}$"
      ],
      "text/plain": [
       "<Quantity 1.79932417e-10>"
      ]
     },
     "execution_count": 4,
     "metadata": {},
     "output_type": "execute_result"
    }
   ],
   "source": [
    "pf.Knudsen_number(L, T, n, species)"
   ]
  },
  {
   "cell_type": "markdown",
   "id": "2203ad1c-2d3a-474c-9b3c-a028ba8f5111",
   "metadata": {},
   "source": [
    "Mean free path comes out the same for electrons and protons"
   ]
  },
  {
   "cell_type": "code",
   "execution_count": 5,
   "id": "f026d70e-df5d-4baf-95bf-b99c116488ee",
   "metadata": {},
   "outputs": [
    {
     "data": {
      "text/latex": [
       "$5.5521343 \\times 10^{9} \\; \\mathrm{cm}$"
      ],
      "text/plain": [
       "<Quantity 5.55213426e+09 cm>"
      ]
     },
     "execution_count": 5,
     "metadata": {},
     "output_type": "execute_result"
    }
   ],
   "source": [
    "pf.mean_free_path(T, n, species).cgs"
   ]
  },
  {
   "cell_type": "markdown",
   "id": "4336f4ba-657d-4af5-ac1a-6583ea94492d",
   "metadata": {},
   "source": [
    "But it is slightly different for Helium ions"
   ]
  },
  {
   "cell_type": "code",
   "execution_count": 6,
   "id": "287f7515-e6eb-4d57-b6ab-67db72d609c4",
   "metadata": {},
   "outputs": [
    {
     "data": {
      "text/latex": [
       "$1.4365298 \\times 10^{9} \\; \\mathrm{cm}$"
      ],
      "text/plain": [
       "<Quantity 1.43652977e+09 cm>"
      ]
     },
     "execution_count": 6,
     "metadata": {},
     "output_type": "execute_result"
    }
   ],
   "source": [
    "pf.mean_free_path(T, n, (\"He++\", \"p+\")).cgs"
   ]
  },
  {
   "cell_type": "markdown",
   "id": "f65e5c47-8fe1-498b-bd43-7e88d8ed4803",
   "metadata": {},
   "source": [
    "And it is a *lot* bigger for high-velocity protons (for example, from stellar wind)"
   ]
  },
  {
   "cell_type": "code",
   "execution_count": 7,
   "id": "3f51887d-cc6a-4be9-9b01-948e5a871d11",
   "metadata": {},
   "outputs": [
    {
     "data": {
      "text/latex": [
       "$3.662913 \\times 10^{16} \\; \\mathrm{cm}$"
      ],
      "text/plain": [
       "<Quantity 3.66291304e+16 cm>"
      ]
     },
     "execution_count": 7,
     "metadata": {},
     "output_type": "execute_result"
    }
   ],
   "source": [
    "pf.mean_free_path(T, n, species, V=1000 * u.km/u.s).cgs"
   ]
  },
  {
   "cell_type": "markdown",
   "id": "5f441054-630e-4bdf-b8e6-b7a36b4d3ef0",
   "metadata": {},
   "source": [
    "By default, the transport coefficients are calculated in the Braginskii model"
   ]
  },
  {
   "cell_type": "code",
   "execution_count": 8,
   "id": "b4344c71-d07e-4f7d-8807-243971aae6e8",
   "metadata": {},
   "outputs": [
    {
     "data": {
      "text/latex": [
       "$[1.0767328 \\times 10^{-7},~1.0734594 \\times 10^{-7},~1.0734594 \\times 10^{-7},~0,~0] \\; \\mathrm{Pa\\,s}$"
      ],
      "text/plain": [
       "<Quantity [1.07673276e-07, 1.07345943e-07, 1.07345943e-07, 0.00000000e+00,\n",
       "           0.00000000e+00] Pa s>"
      ]
     },
     "execution_count": 8,
     "metadata": {},
     "output_type": "execute_result"
    }
   ],
   "source": [
    "pf.ion_viscosity(T, n, T, n, \"p\")"
   ]
  },
  {
   "cell_type": "markdown",
   "id": "e123127a-d48a-42bd-99fd-a20e3fea141a",
   "metadata": {},
   "source": [
    "But there is the option to use the more accurate Ji and Held (2013) model, although in our case this makes little difference."
   ]
  },
  {
   "cell_type": "code",
   "execution_count": 9,
   "id": "1777a19d-33a3-4a59-9a49-1893fce72252",
   "metadata": {},
   "outputs": [
    {
     "data": {
      "text/latex": [
       "$[1.0825659 \\times 10^{-7},~1.0825659 \\times 10^{-7},~1.0825659 \\times 10^{-7},~0,~0] \\; \\mathrm{Pa\\,s}$"
      ],
      "text/plain": [
       "<Quantity [1.08256591e-07, 1.08256591e-07, 1.08256591e-07, 0.00000000e+00,\n",
       "           0.00000000e+00] Pa s>"
      ]
     },
     "execution_count": 9,
     "metadata": {},
     "output_type": "execute_result"
    }
   ],
   "source": [
    "pf.ion_viscosity(T, n, T, n, \"p\", model=\"Ji-Held\")"
   ]
  },
  {
   "cell_type": "markdown",
   "id": "fe553527-5b27-46e2-b373-68ae5870e388",
   "metadata": {},
   "source": [
    "Note that viscosity is a tensor, which may become important once we introduce a magnetic field."
   ]
  },
  {
   "cell_type": "code",
   "execution_count": 10,
   "id": "3dd95a71-9d42-42ba-a468-6135da70aafb",
   "metadata": {},
   "outputs": [
    {
     "data": {
      "text/latex": [
       "$34.699494 \\; \\mathrm{}$"
      ],
      "text/plain": [
       "<Quantity 34.69949406>"
      ]
     },
     "execution_count": 10,
     "metadata": {},
     "output_type": "execute_result"
    }
   ],
   "source": [
    "B = 10 * u.microgauss\n",
    "pf.beta(T, n, B)"
   ]
  },
  {
   "cell_type": "code",
   "execution_count": 11,
   "id": "2a4240b5-3bb7-42a2-8832-633ba2175e08",
   "metadata": {},
   "outputs": [
    {
     "data": {
      "text/latex": [
       "$[1.0825659 \\times 10^{-7},~7.9989837 \\times 10^{-20},~3.1995844 \\times 10^{-19},~8.6465936 \\times 10^{-14},~1.7293153 \\times 10^{-13}] \\; \\mathrm{Pa\\,s}$"
      ],
      "text/plain": [
       "<Quantity [1.08256591e-07, 7.99898369e-20, 3.19958436e-19, 8.64659363e-14,\n",
       "           1.72931530e-13] Pa s>"
      ]
     },
     "execution_count": 11,
     "metadata": {},
     "output_type": "execute_result"
    }
   ],
   "source": [
    "pf.ion_viscosity(T, n, T, n, \"p\", B=B, model=\"Ji-Held\")"
   ]
  },
  {
   "cell_type": "code",
   "execution_count": 12,
   "id": "872586be-90dc-43b2-907d-bcd052789d86",
   "metadata": {},
   "outputs": [
    {
     "data": {
      "text/latex": [
       "$[1.0767328 \\times 10^{-7},~7.9989846 \\times 10^{-20},~3.1995858 \\times 10^{-19},~8.6465938 \\times 10^{-14},~1.7293155 \\times 10^{-13}] \\; \\mathrm{Pa\\,s}$"
      ],
      "text/plain": [
       "<Quantity [1.07673276e-07, 7.99898460e-20, 3.19958580e-19, 8.64659384e-14,\n",
       "           1.72931547e-13] Pa s>"
      ]
     },
     "execution_count": 12,
     "metadata": {},
     "output_type": "execute_result"
    }
   ],
   "source": [
    "pf.ion_viscosity(T, n, T, n, \"p\", B=B)"
   ]
  },
  {
   "cell_type": "markdown",
   "id": "af1aca4e-17e7-43c6-97e5-ce45f63a77ba",
   "metadata": {},
   "source": [
    "These are now the tensor viscosity resuts with a more realistic magnetic field"
   ]
  },
  {
   "cell_type": "code",
   "execution_count": null,
   "id": "e1ceaee9-04d0-4a57-90e6-be3596ce2357",
   "metadata": {},
   "outputs": [],
   "source": []
  }
 ],
 "metadata": {
  "kernelspec": {
   "display_name": "Python 3 (ipykernel)",
   "language": "python",
   "name": "python3"
  },
  "language_info": {
   "codemirror_mode": {
    "name": "ipython",
    "version": 3
   },
   "file_extension": ".py",
   "mimetype": "text/x-python",
   "name": "python",
   "nbconvert_exporter": "python",
   "pygments_lexer": "ipython3",
   "version": "3.12.6"
  }
 },
 "nbformat": 4,
 "nbformat_minor": 5
}
