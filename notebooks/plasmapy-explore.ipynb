{
 "cells": [
  {
   "cell_type": "code",
   "execution_count": 1,
   "id": "7fafa456-69f1-487c-9fa9-d7759952d289",
   "metadata": {},
   "outputs": [],
   "source": [
    "import plasmapy"
   ]
  },
  {
   "cell_type": "markdown",
   "id": "68aea858-4312-4e35-9304-6a677508e20c",
   "metadata": {},
   "source": [
    "Note that plasmapy can take a very long time to import, about a minute."
   ]
  },
  {
   "cell_type": "code",
   "execution_count": 13,
   "id": "e4e1679c-9fff-4ccc-b5b5-937fbe7a950a",
   "metadata": {},
   "outputs": [],
   "source": [
    "import hii_utils\n",
    "import plasmapy.formulary as pf\n",
    "import astropy.units as u"
   ]
  },
  {
   "cell_type": "markdown",
   "id": "9bd4470e-c25c-4267-8de7-07de52773ed6",
   "metadata": {},
   "source": [
    "## Calculate various parameters for a typical H II region"
   ]
  },
  {
   "cell_type": "markdown",
   "id": "50f3488e-ac89-4516-82b8-c69c7987d48c",
   "metadata": {},
   "source": [
    "### Fiducial parameters\n",
    "\n",
    "As with my other notes, we will normalise to an electron density of 100 pcc and temperature of 10,000 K. We set the size scale to 10 pc (later, we can try and relate this to the ionization parameter)"
   ]
  },
  {
   "cell_type": "code",
   "execution_count": 3,
   "id": "9202e0bf-fa86-4721-accc-adda39da1f88",
   "metadata": {},
   "outputs": [],
   "source": [
    "L = 10.0 * u.pc\n",
    "n = 100.0 * u.cm ** -3\n",
    "T = 1.0e4 * u.K\n",
    "species = (\"p+\", \"p+\")"
   ]
  },
  {
   "cell_type": "markdown",
   "id": "3dea354c-ddf8-460b-add5-4b3f07754d9e",
   "metadata": {},
   "source": [
    "### Magnetic field\n",
    "\n",
    "Set the magnetic field to try and give a plasma beta of unity. Note that the `n` parameter in the `beta()` function is the total particle density, which is $2 n_e$ if fully ionized pure hydrogen."
   ]
  },
  {
   "cell_type": "code",
   "execution_count": 25,
   "id": "3dd95a71-9d42-42ba-a468-6135da70aafb",
   "metadata": {},
   "outputs": [
    {
     "data": {
      "text/latex": [
       "$1.0001454 \\; \\mathrm{}$"
      ],
      "text/plain": [
       "<Quantity 1.00014539>"
      ]
     },
     "execution_count": 25,
     "metadata": {},
     "output_type": "execute_result"
    }
   ],
   "source": [
    "B = 83.3* u.microgauss\n",
    "pf.beta(T, 2*n, B)"
   ]
  },
  {
   "cell_type": "markdown",
   "id": "fed34400-c5fb-43de-9e74-b2dba9042db7",
   "metadata": {},
   "source": [
    "That is close enough to unity. But note that it is slightly different from the 78.2 microG that I derived in my notes, which is probably due to the correction for Helium, which I am ignoring here."
   ]
  },
  {
   "cell_type": "markdown",
   "id": "cc66800c-af10-4a05-a29e-4a1c2ecb1a8a",
   "metadata": {},
   "source": [
    "### Collisional quantities"
   ]
  },
  {
   "cell_type": "code",
   "execution_count": 4,
   "id": "3ec60b54-2745-47a1-8f40-538c64136b5b",
   "metadata": {},
   "outputs": [
    {
     "data": {
      "text/latex": [
       "$1.7993242 \\times 10^{-10} \\; \\mathrm{}$"
      ],
      "text/plain": [
       "<Quantity 1.79932417e-10>"
      ]
     },
     "execution_count": 4,
     "metadata": {},
     "output_type": "execute_result"
    }
   ],
   "source": [
    "pf.Knudsen_number(L, T, n, species)"
   ]
  },
  {
   "cell_type": "markdown",
   "id": "2203ad1c-2d3a-474c-9b3c-a028ba8f5111",
   "metadata": {},
   "source": [
    "Mean free path comes out the same for electrons and protons"
   ]
  },
  {
   "cell_type": "code",
   "execution_count": 5,
   "id": "f026d70e-df5d-4baf-95bf-b99c116488ee",
   "metadata": {},
   "outputs": [
    {
     "data": {
      "text/latex": [
       "$5.5521343 \\times 10^{9} \\; \\mathrm{cm}$"
      ],
      "text/plain": [
       "<Quantity 5.55213426e+09 cm>"
      ]
     },
     "execution_count": 5,
     "metadata": {},
     "output_type": "execute_result"
    }
   ],
   "source": [
    "pf.mean_free_path(T, n, species).cgs"
   ]
  },
  {
   "cell_type": "markdown",
   "id": "4336f4ba-657d-4af5-ac1a-6583ea94492d",
   "metadata": {},
   "source": [
    "But it is slightly different for Helium ions"
   ]
  },
  {
   "cell_type": "code",
   "execution_count": 6,
   "id": "287f7515-e6eb-4d57-b6ab-67db72d609c4",
   "metadata": {},
   "outputs": [
    {
     "data": {
      "text/latex": [
       "$1.4365298 \\times 10^{9} \\; \\mathrm{cm}$"
      ],
      "text/plain": [
       "<Quantity 1.43652977e+09 cm>"
      ]
     },
     "execution_count": 6,
     "metadata": {},
     "output_type": "execute_result"
    }
   ],
   "source": [
    "pf.mean_free_path(T, n, (\"He++\", \"p+\")).cgs"
   ]
  },
  {
   "cell_type": "markdown",
   "id": "f65e5c47-8fe1-498b-bd43-7e88d8ed4803",
   "metadata": {},
   "source": [
    "And it is a *lot* bigger for high-velocity protons (for example, from stellar wind)"
   ]
  },
  {
   "cell_type": "code",
   "execution_count": 7,
   "id": "3f51887d-cc6a-4be9-9b01-948e5a871d11",
   "metadata": {},
   "outputs": [
    {
     "data": {
      "text/latex": [
       "$3.662913 \\times 10^{16} \\; \\mathrm{cm}$"
      ],
      "text/plain": [
       "<Quantity 3.66291304e+16 cm>"
      ]
     },
     "execution_count": 7,
     "metadata": {},
     "output_type": "execute_result"
    }
   ],
   "source": [
    "pf.mean_free_path(T, n, species, V=1000 * u.km/u.s).cgs"
   ]
  },
  {
   "cell_type": "markdown",
   "id": "5f441054-630e-4bdf-b8e6-b7a36b4d3ef0",
   "metadata": {},
   "source": [
    "By default, the transport coefficients are calculated in the Braginskii model"
   ]
  },
  {
   "cell_type": "code",
   "execution_count": 8,
   "id": "b4344c71-d07e-4f7d-8807-243971aae6e8",
   "metadata": {},
   "outputs": [
    {
     "data": {
      "text/latex": [
       "$[1.0767328 \\times 10^{-7},~1.0734594 \\times 10^{-7},~1.0734594 \\times 10^{-7},~0,~0] \\; \\mathrm{Pa\\,s}$"
      ],
      "text/plain": [
       "<Quantity [1.07673276e-07, 1.07345943e-07, 1.07345943e-07, 0.00000000e+00,\n",
       "           0.00000000e+00] Pa s>"
      ]
     },
     "execution_count": 8,
     "metadata": {},
     "output_type": "execute_result"
    }
   ],
   "source": [
    "pf.ion_viscosity(T, n, T, n, \"p\")"
   ]
  },
  {
   "cell_type": "markdown",
   "id": "e123127a-d48a-42bd-99fd-a20e3fea141a",
   "metadata": {},
   "source": [
    "But there is the option to use the more accurate Ji and Held (2013) model, although in our case this makes little difference."
   ]
  },
  {
   "cell_type": "markdown",
   "id": "8c18b8d9-505e-4cba-aa92-f6268d34d602",
   "metadata": {},
   "source": [
    "But we can also a more recent theory from Ji & Held (2013), which changes the numbers very slightly. The main difference is that it better accounts for the electron-ion collisions, and apparently it has more effect in the magnetic case, which we will  see below. "
   ]
  },
  {
   "cell_type": "code",
   "execution_count": 9,
   "id": "1777a19d-33a3-4a59-9a49-1893fce72252",
   "metadata": {},
   "outputs": [
    {
     "data": {
      "text/latex": [
       "$[1.0825659 \\times 10^{-7},~1.0825659 \\times 10^{-7},~1.0825659 \\times 10^{-7},~0,~0] \\; \\mathrm{Pa\\,s}$"
      ],
      "text/plain": [
       "<Quantity [1.08256591e-07, 1.08256591e-07, 1.08256591e-07, 0.00000000e+00,\n",
       "           0.00000000e+00] Pa s>"
      ]
     },
     "execution_count": 9,
     "metadata": {},
     "output_type": "execute_result"
    }
   ],
   "source": [
    "pf.ion_viscosity(T, n, T, n, \"p\", model=\"Ji-Held\")"
   ]
  },
  {
   "cell_type": "markdown",
   "id": "fe553527-5b27-46e2-b373-68ae5870e388",
   "metadata": {},
   "source": [
    "Note that viscosity is a tensor, which may become important once we introduce a magnetic field."
   ]
  },
  {
   "cell_type": "code",
   "execution_count": null,
   "id": "773a54f4-cea6-4887-8c74-a99629de3a2f",
   "metadata": {},
   "outputs": [],
   "source": []
  },
  {
   "cell_type": "markdown",
   "id": "a222aeac-fdfd-42e7-ad20-da8aaffa5668",
   "metadata": {},
   "source": [
    "### Anisotropy with magnetic field"
   ]
  },
  {
   "cell_type": "code",
   "execution_count": 28,
   "id": "65dbdee6-9c03-4d92-898b-72ce10f39e61",
   "metadata": {
    "editable": true,
    "slideshow": {
     "slide_type": ""
    },
    "tags": []
   },
   "outputs": [
    {
     "data": {
      "text/latex": [
       "$6708.504 \\; \\mathrm{}$"
      ],
      "text/plain": [
       "<Quantity 6708.50398785>"
      ]
     },
     "execution_count": 28,
     "metadata": {},
     "output_type": "execute_result"
    }
   ],
   "source": [
    "pf.Hall_parameter(n, T, B, \"p\", \"p\")"
   ]
  },
  {
   "cell_type": "markdown",
   "id": "8989a453-deaa-40f1-a98c-412abbbdea42",
   "metadata": {},
   "source": [
    "The Hall parameter is the product of Larmor frequency and collision time: $x = \\omega_L \\, \\tau = (V / r_L)\\, (\\lambda / V) = \\lambda / r_L$. so it is the ratio of the mean free path to the Larmor radius. This is very similar to the magnetic Prandtl number, which I calculated in the notes. It is linearly proportional to the B field:"
   ]
  },
  {
   "cell_type": "code",
   "execution_count": 30,
   "id": "9b3a9469-04e6-4b48-baa8-423838d1aeaa",
   "metadata": {},
   "outputs": [
    {
     "data": {
      "text/latex": [
       "$670.8504 \\; \\mathrm{}$"
      ],
      "text/plain": [
       "<Quantity 670.85039879>"
      ]
     },
     "execution_count": 30,
     "metadata": {},
     "output_type": "execute_result"
    }
   ],
   "source": [
    "pf.Hall_parameter(n, T, 0.1 * B, \"p\", \"p\")"
   ]
  },
  {
   "cell_type": "code",
   "execution_count": 26,
   "id": "2a4240b5-3bb7-42a2-8832-633ba2175e08",
   "metadata": {},
   "outputs": [
    {
     "data": {
      "text/latex": [
       "$[1.0825659 \\times 10^{-7},~1.6613273 \\times 10^{-23},~6.6453091 \\times 10^{-23},~1.246107 \\times 10^{-15},~2.4922139 \\times 10^{-15}] \\; \\mathrm{Pa\\,s}$"
      ],
      "text/plain": [
       "<Quantity [1.08256591e-07, 1.66132734e-23, 6.64530909e-23, 1.24610698e-15,\n",
       "           2.49221389e-15] Pa s>"
      ]
     },
     "execution_count": 26,
     "metadata": {},
     "output_type": "execute_result"
    }
   ],
   "source": [
    "pf.ion_viscosity(T, n, T, n, \"p\", B=B, model=\"Ji-Held\")"
   ]
  },
  {
   "cell_type": "code",
   "execution_count": 31,
   "id": "872586be-90dc-43b2-907d-bcd052789d86",
   "metadata": {},
   "outputs": [
    {
     "data": {
      "text/latex": [
       "$[1.0767328 \\times 10^{-7},~1.6613273 \\times 10^{-23},~6.6453091 \\times 10^{-23},~1.246107 \\times 10^{-15},~2.4922139 \\times 10^{-15}] \\; \\mathrm{Pa\\,s}$"
      ],
      "text/plain": [
       "<Quantity [1.07673276e-07, 1.66132734e-23, 6.64530913e-23, 1.24610698e-15,\n",
       "           2.49221389e-15] Pa s>"
      ]
     },
     "execution_count": 31,
     "metadata": {},
     "output_type": "execute_result"
    }
   ],
   "source": [
    "pf.ion_viscosity(T, n, T, n, \"p\", B=B)"
   ]
  },
  {
   "cell_type": "markdown",
   "id": "af1aca4e-17e7-43c6-97e5-ce45f63a77ba",
   "metadata": {},
   "source": [
    "These are now the tensor viscosity resuts with a more realistic magnetic field"
   ]
  }
 ],
 "metadata": {
  "kernelspec": {
   "display_name": "Python 3 (ipykernel)",
   "language": "python",
   "name": "python3"
  },
  "language_info": {
   "codemirror_mode": {
    "name": "ipython",
    "version": 3
   },
   "file_extension": ".py",
   "mimetype": "text/x-python",
   "name": "python",
   "nbconvert_exporter": "python",
   "pygments_lexer": "ipython3",
   "version": "3.12.6"
  }
 },
 "nbformat": 4,
 "nbformat_minor": 5
}
